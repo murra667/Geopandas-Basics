{
 "cells": [
  {
   "cell_type": "markdown",
   "metadata": {},
   "source": [
    "# Introduction"
   ]
  },
  {
   "cell_type": "markdown",
   "metadata": {},
   "source": [
    "### What do I hope you get out of this presentation?\n",
    "\n",
    "- Easily create geospatial visualizations \n",
    "\n",
    "- Create geospatial attributes in data \n"
   ]
  },
  {
   "cell_type": "markdown",
   "metadata": {},
   "source": [
    "### Who am I?\n",
    "\n",
    "(this will be hidden)\n",
    "\n",
    "\n",
    "⦁\tI've been a python user for almost 2 years now, my background is in Geographic Information Science where I did spatial data analytics and data viz using ArcMap software from Environmental Science and Research Institute out of Redwood California, formerly known as ESRI or \"ESRI\"\n",
    "shapely and python libraries were the first I used, which brings us to the tools I'll present today"
   ]
  },
  {
   "cell_type": "markdown",
   "metadata": {},
   "source": [
    "### The Tools\n",
    "\n",
    "- Geopandas \n",
    "\n",
    "- Folium "
   ]
  },
  {
   "cell_type": "markdown",
   "metadata": {},
   "source": [
    "### Why Folium?\n",
    "\n",
    "- Interactivity\n",
    "\n",
    "- Choropleth Maps\n",
    "\n",
    "- TopoGeoJSON overlay\n",
    "\n",
    "- Integrate with Color Brewer\n",
    "\n",
    "- Brings together a lot of great tools in one place to be used with geopandas and python\n",
    "\n",
    "- Overall produces a visual that is aesthetically pleasing and presentable\n"
   ]
  },
  {
   "cell_type": "markdown",
   "metadata": {},
   "source": [
    "# What will it cover\n",
    "\n",
    "- pedestrian oriented \n",
    "- NCR funding\n",
    "- property sales\n",
    "- "
   ]
  },
  {
   "cell_type": "code",
   "execution_count": null,
   "metadata": {},
   "outputs": [],
   "source": [
    "import geopandas as gpd"
   ]
  },
  {
   "cell_type": "markdown",
   "metadata": {},
   "source": [
    "__[Minneapolis Parks GIS Open Dataset](http://opendata.minneapolismn.gov/datasets/a1847c4cc69940f99b46b16e2b4fe7e3_0)__"
   ]
  },
  {
   "cell_type": "code",
   "execution_count": null,
   "metadata": {},
   "outputs": [],
   "source": [
    "show geocoding example from a certain location and buffer one mile to find all of the bike trails"
   ]
  }
 ],
 "metadata": {
  "kernelspec": {
   "display_name": "Python 3",
   "language": "python",
   "name": "python3"
  },
  "language_info": {
   "codemirror_mode": {
    "name": "ipython",
    "version": 3
   },
   "file_extension": ".py",
   "mimetype": "text/x-python",
   "name": "python",
   "nbconvert_exporter": "python",
   "pygments_lexer": "ipython3",
   "version": "3.6.5"
  }
 },
 "nbformat": 4,
 "nbformat_minor": 2
}
